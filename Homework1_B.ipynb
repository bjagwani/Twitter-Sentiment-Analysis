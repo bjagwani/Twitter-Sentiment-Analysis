{
 "cells": [
  {
   "cell_type": "markdown",
   "metadata": {},
   "source": [
    "# Homework 1 - Twitter Sentiment Analysis"
   ]
  },
  {
   "cell_type": "markdown",
   "metadata": {},
   "source": [
    "#### Group 4: Bhupinder Kantilal Jagwani, Qurat Ul Ain Syeda, Yong (Summer) Zhao"
   ]
  },
  {
   "cell_type": "markdown",
   "metadata": {},
   "source": [
    "###### For the purpose of this assignment, we used the keyword \"covid-19\" to conduct our analysis. Please see below for code and explanation."
   ]
  },
  {
   "cell_type": "markdown",
   "metadata": {},
   "source": [
    "1. Import regular expression "
   ]
  },
  {
   "cell_type": "code",
   "execution_count": 23,
   "metadata": {},
   "outputs": [],
   "source": [
    "import re"
   ]
  },
  {
   "cell_type": "markdown",
   "metadata": {},
   "source": [
    "2. Open text file with positive words, read each line, strip unnecessary spaces, and assign each line as element to list variable \"pos_List\"."
   ]
  },
  {
   "cell_type": "code",
   "execution_count": 31,
   "metadata": {},
   "outputs": [
    {
     "name": "stdout",
     "output_type": "stream",
     "text": [
      "['a+', 'abound', 'abounds', 'abundance', 'abundant']\n"
     ]
    }
   ],
   "source": [
    "# 'with' opens as well as closes the file. We don't need file.close() while using 'with open()' \n",
    "with open(\"positive_list.txt\", \"r\") as positivefile:\n",
    "    pos_List = [line.strip() for line in positivefile]\n",
    "    \n",
    "print (pos_List[0:5])"
   ]
  },
  {
   "cell_type": "markdown",
   "metadata": {},
   "source": [
    " 3. Open text file with negative words, read each line, strip unnecessary spaces, and assign each line as element to list variable \"neg_List\"."
   ]
  },
  {
   "cell_type": "code",
   "execution_count": 25,
   "metadata": {},
   "outputs": [
    {
     "name": "stdout",
     "output_type": "stream",
     "text": [
      "['2-faced', '2-faces', 'abnormal', 'abolish', 'abominable']\n"
     ]
    }
   ],
   "source": [
    "with open(\"negative_list.txt\", \"r\") as negativefile:\n",
    "    neg_List = [line.strip() for line in negativefile]\n",
    "    \n",
    "print (neg_List[0:5])"
   ]
  },
  {
   "cell_type": "markdown",
   "metadata": {},
   "source": [
    "4. Open text file with tweets related to \"covid-19\", .readlines() function would read the entire text line by line and return a list of tweets that we have assigned to the variable \"covid_List\". Note that \"covid-19.txt\" contains certain non-ASCII charachters, so we had to specify program to encode."
   ]
  },
  {
   "cell_type": "code",
   "execution_count": 26,
   "metadata": {},
   "outputs": [
    {
     "name": "stdout",
     "output_type": "stream",
     "text": [
      "['@Patrykia @chrislhayes And did you see this? Speaking of Brave New World  https://t.co/kVqv3MeRf1\\n', \"RT @ 1 in 5 schools in #Ottawa with a COVID-19 case. A new school closure today in Scarborough.  Record daily increase in cases. Same old lines from Ford's Education Minister.🔁 Where is the plan? #OntEd #onpoli https://t.co/Yba2iALXq8\\n\"]\n"
     ]
    }
   ],
   "source": [
    "with open('covid-19.txt','r',encoding =\"utf-8\")as covid_file:\n",
    "    covid_list = covid_file.readlines()\n",
    "    \n",
    "print (covid_list[0:2])    "
   ]
  },
  {
   "cell_type": "markdown",
   "metadata": {},
   "source": [
    "5. Defined the function 'preprocess_text' which would 'clean' the tweet and return it in lowercase."
   ]
  },
  {
   "cell_type": "code",
   "execution_count": 27,
   "metadata": {},
   "outputs": [],
   "source": [
    "def preprocess_text(text):\n",
    "    # 1. Remove RT @\n",
    "    text = text.replace('RT @', '').lstrip()\n",
    "    # 2. Covert all text to lower case\n",
    "    text = text.lower()\n",
    "    # 3. Remove numbers\n",
    "    text = re.sub('\\d+', '', text).strip()\n",
    "    # 4. Remove @Usernames\n",
    "    text = re.sub('@\\s', '', text).strip()\n",
    "    text = re.sub('@[a-z0-9]+', '', text).strip()\n",
    "    # 5. Remove URL\n",
    "    text = re.sub('https://[a-z0-9]+', '', text).strip()\n",
    "    # 6. Remove punctuation\n",
    "    text= re.sub('[^\\u4e00-\\u9fa5^a-z0-9\\']', ' ', text).strip()\n",
    "    text = re.sub('\\s+', ' ', text).strip()\n",
    "    return text"
   ]
  },
  {
   "cell_type": "markdown",
   "metadata": {},
   "source": [
    "6. Initialize the variable \"score\" as this will be used to store the results of calculating the overall sentiment. We used a nested for loop, which loops through each element from covid_list (list of tweets from the text file) and then loops through each word in the tweet. For each word, if the word exists in pos_List (declared in Step 1) then add +1 to the variable \"score\", if not check to see if the word exists in neg_List (declared in Step 2), then add -1 to the \"score\". It is implied in the logic that if the word doesn't exist in either lists, the variable \"score\" remains unchanged. We are also calculating total number of positive and negative words which we will need further in the code to determine strength of the sentiment."
   ]
  },
  {
   "cell_type": "code",
   "execution_count": 33,
   "metadata": {},
   "outputs": [],
   "source": [
    "def sentiment_score(covid_list):\n",
    "    score = 0\n",
    "    total_pos = 0\n",
    "    total_neg = 0\n",
    "    #looping through list of tweets\n",
    "    for tweet in covid_list:\n",
    "        # cleaning individual tweets by calling the function preprocess_text\n",
    "        clean_tweet = preprocess_text(tweet)\n",
    "        #splitting each tweet to get a list of words\n",
    "        tweet = clean_tweet.split()\n",
    "        #looping through words \n",
    "        for word in tweet:\n",
    "            if word in pos_List:\n",
    "                total_pos += 1\n",
    "                score += 1\n",
    "            elif word in neg_List:\n",
    "                total_neg += 1\n",
    "                score -= 1\n",
    "    return score, total_pos, total_neg"
   ]
  },
  {
   "cell_type": "markdown",
   "metadata": {},
   "source": [
    "7.Defining function 'sentiment_strength' to determine the overall strength of the sentiment of the collected tweets. Here, we are determining the strength by calculating the ratio of absolute score by the total of positive and negative words. The appropriate ranges(above 50, 30-50 and below 30) for each of the buckets were determined based on a separate analysis of different words(Examples: Mr.President, Shutdown, Makeup, Baseball and Cubs) that we conducted.  "
   ]
  },
  {
   "cell_type": "code",
   "execution_count": 34,
   "metadata": {},
   "outputs": [],
   "source": [
    "def sentiment_strength(scores):\n",
    "    ratio = ((abs(scores[0])/(scores[1] + scores[2]))* 100)\n",
    "    if scores[0] < 0:\n",
    "        if ratio > 50:\n",
    "            print(\"The overall sentiment is strongly negative\")\n",
    "        elif ratio > 30 and ratio < 50:\n",
    "            print(\"The overall sentiment is moderatly negative\")\n",
    "        elif ratio < 30:\n",
    "            print(\"The overall sentiment is weakly negative\")\n",
    "            \n",
    "    elif scores[0] > 0:\n",
    "        if ratio > 50:\n",
    "            print(\"The overall sentiment is strongly positive\")\n",
    "        elif ratio > 30 and ratio < 50:\n",
    "            print(\"The overall sentiment is moderatly positive\")\n",
    "        elif ratio < 30:\n",
    "            print(\"The overall sentiment is weakly positive\")"
   ]
  },
  {
   "cell_type": "markdown",
   "metadata": {},
   "source": [
    "8. Calling sentiment_score and sentiment_strength function and passing the list of tweets (Step 4) and score variables respectively to print the result.\n"
   ]
  },
  {
   "cell_type": "code",
   "execution_count": 43,
   "metadata": {},
   "outputs": [
    {
     "name": "stdout",
     "output_type": "stream",
     "text": [
      "The sentiment score is -1245\n",
      "The overall sentiment is weakly negative\n"
     ]
    }
   ],
   "source": [
    "scores = sentiment_score(covid_list)\n",
    "\n",
    "print(\"The sentiment score is \" + str(scores[0]))\n",
    "\n",
    "overall_sentiment = sentiment_strength(scores)"
   ]
  }
 ],
 "metadata": {
  "kernelspec": {
   "display_name": "Python 3",
   "language": "python",
   "name": "python3"
  },
  "language_info": {
   "codemirror_mode": {
    "name": "ipython",
    "version": 3
   },
   "file_extension": ".py",
   "mimetype": "text/x-python",
   "name": "python",
   "nbconvert_exporter": "python",
   "pygments_lexer": "ipython3",
   "version": "3.8.3"
  }
 },
 "nbformat": 4,
 "nbformat_minor": 4
}
